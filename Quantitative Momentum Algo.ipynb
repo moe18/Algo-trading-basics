{
 "cells": [
  {
   "cell_type": "markdown",
   "metadata": {},
   "source": [
    "# Quantitative Momentum Algo\n",
    "\n",
    "## Summary: \n",
    "the point of this project is to build a Momentum algorithm based on stock market data. the goal of this algo is to invest more in good momentum stocks, a good momentum stock means that the stock did well in the past so will do well in the future. another thing that makes some momentum better then others is if it is a slow and steady growth instead of random news that makes the stock go up.\n",
    "\n",
    "Strategy: get a stocks data for the last year check the return as well as check the standard deviation and divide the std by the stock return and see if that stock does well the next year\n"
   ]
  },
  {
   "cell_type": "markdown",
   "metadata": {},
   "source": [
    "## Imports"
   ]
  },
  {
   "cell_type": "code",
   "execution_count": 2,
   "metadata": {},
   "outputs": [],
   "source": [
    "import pandas as pd\n",
    "import numpy as np\n",
    "from yahooquery import Ticker\n"
   ]
  },
  {
   "cell_type": "markdown",
   "metadata": {},
   "source": [
    "## get historical data for one stock "
   ]
  },
  {
   "cell_type": "code",
   "execution_count": 32,
   "metadata": {
    "scrolled": true
   },
   "outputs": [
    {
     "data": {
      "text/html": [
       "<div>\n",
       "<style scoped>\n",
       "    .dataframe tbody tr th:only-of-type {\n",
       "        vertical-align: middle;\n",
       "    }\n",
       "\n",
       "    .dataframe tbody tr th {\n",
       "        vertical-align: top;\n",
       "    }\n",
       "\n",
       "    .dataframe thead th {\n",
       "        text-align: right;\n",
       "    }\n",
       "</style>\n",
       "<table border=\"1\" class=\"dataframe\">\n",
       "  <thead>\n",
       "    <tr style=\"text-align: right;\">\n",
       "      <th></th>\n",
       "      <th>open</th>\n",
       "      <th>low</th>\n",
       "      <th>high</th>\n",
       "      <th>volume</th>\n",
       "      <th>close</th>\n",
       "      <th>adjclose</th>\n",
       "      <th>dividends</th>\n",
       "    </tr>\n",
       "  </thead>\n",
       "  <tbody>\n",
       "    <tr>\n",
       "      <th>2018-01-02 14:30:00</th>\n",
       "      <td>42.540001</td>\n",
       "      <td>42.314999</td>\n",
       "      <td>43.075001</td>\n",
       "      <td>102223600</td>\n",
       "      <td>43.064999</td>\n",
       "      <td>41.442081</td>\n",
       "      <td>0.0</td>\n",
       "    </tr>\n",
       "    <tr>\n",
       "      <th>2018-01-03 14:30:00</th>\n",
       "      <td>43.132500</td>\n",
       "      <td>42.990002</td>\n",
       "      <td>43.637501</td>\n",
       "      <td>118071600</td>\n",
       "      <td>43.057499</td>\n",
       "      <td>41.434864</td>\n",
       "      <td>0.0</td>\n",
       "    </tr>\n",
       "    <tr>\n",
       "      <th>2018-01-04 14:30:00</th>\n",
       "      <td>43.134998</td>\n",
       "      <td>43.020000</td>\n",
       "      <td>43.367500</td>\n",
       "      <td>89738400</td>\n",
       "      <td>43.257500</td>\n",
       "      <td>41.627323</td>\n",
       "      <td>0.0</td>\n",
       "    </tr>\n",
       "    <tr>\n",
       "      <th>2018-01-05 14:30:00</th>\n",
       "      <td>43.360001</td>\n",
       "      <td>43.262501</td>\n",
       "      <td>43.842499</td>\n",
       "      <td>94640000</td>\n",
       "      <td>43.750000</td>\n",
       "      <td>42.101261</td>\n",
       "      <td>0.0</td>\n",
       "    </tr>\n",
       "    <tr>\n",
       "      <th>2018-01-08 14:30:00</th>\n",
       "      <td>43.587502</td>\n",
       "      <td>43.482498</td>\n",
       "      <td>43.902500</td>\n",
       "      <td>82271200</td>\n",
       "      <td>43.587502</td>\n",
       "      <td>41.944889</td>\n",
       "      <td>0.0</td>\n",
       "    </tr>\n",
       "  </tbody>\n",
       "</table>\n",
       "</div>"
      ],
      "text/plain": [
       "                          open        low       high     volume      close  \\\n",
       "2018-01-02 14:30:00  42.540001  42.314999  43.075001  102223600  43.064999   \n",
       "2018-01-03 14:30:00  43.132500  42.990002  43.637501  118071600  43.057499   \n",
       "2018-01-04 14:30:00  43.134998  43.020000  43.367500   89738400  43.257500   \n",
       "2018-01-05 14:30:00  43.360001  43.262501  43.842499   94640000  43.750000   \n",
       "2018-01-08 14:30:00  43.587502  43.482498  43.902500   82271200  43.587502   \n",
       "\n",
       "                      adjclose  dividends  \n",
       "2018-01-02 14:30:00  41.442081        0.0  \n",
       "2018-01-03 14:30:00  41.434864        0.0  \n",
       "2018-01-04 14:30:00  41.627323        0.0  \n",
       "2018-01-05 14:30:00  42.101261        0.0  \n",
       "2018-01-08 14:30:00  41.944889        0.0  "
      ]
     },
     "execution_count": 32,
     "metadata": {},
     "output_type": "execute_result"
    }
   ],
   "source": [
    "tickers = Ticker('aapl')\n",
    "\n",
    "df = tickers.history(start='2018-01-01',end='2019-01-01')\n",
    "df.head()"
   ]
  },
  {
   "cell_type": "markdown",
   "metadata": {},
   "source": [
    "## percent change and std"
   ]
  },
  {
   "cell_type": "code",
   "execution_count": 40,
   "metadata": {},
   "outputs": [
    {
     "data": {
      "text/plain": [
       "-3.903894592221692"
      ]
     },
     "execution_count": 40,
     "metadata": {},
     "output_type": "execute_result"
    }
   ],
   "source": [
    "stock_return = (df['adjclose'][-1] - df['adjclose'][0])/ df['adjclose'][0]\n",
    "stock_std = np.std(df['adjclose'].pct_change())\n",
    "\n",
    "momentum_score = stock_return / stock_std\n",
    "momentum_score"
   ]
  },
  {
   "cell_type": "code",
   "execution_count": 34,
   "metadata": {},
   "outputs": [
    {
     "data": {
      "text/plain": [
       "<matplotlib.axes._subplots.AxesSubplot at 0x7ff4b2b83a90>"
      ]
     },
     "execution_count": 34,
     "metadata": {},
     "output_type": "execute_result"
    },
    {
     "data": {
      "image/png": "[encoded data removed]",
      "text/plain": [
       "<Figure size 432x288 with 1 Axes>"
      ]
     },
     "metadata": {
      "needs_background": "light"
     },
     "output_type": "display_data"
    }
   ],
   "source": [
    "df['adjclose'].plot()"
   ]
  },
  {
   "cell_type": "markdown",
   "metadata": {},
   "source": [
    "## Get all stock data"
   ]
  },
  {
   "cell_type": "code",
   "execution_count": 42,
   "metadata": {},
   "outputs": [],
   "source": [
    "stocks = pd.read_csv('sp_500_stocks.csv')"
   ]
  },
  {
   "cell_type": "code",
   "execution_count": 46,
   "metadata": {},
   "outputs": [
    {
     "data": {
      "text/plain": [
       "array(['A', 'AAL', 'AAP', 'AAPL', 'ABBV'], dtype=object)"
      ]
     },
     "execution_count": 46,
     "metadata": {},
     "output_type": "execute_result"
    }
   ],
   "source": [
    "stocks.values.flatten()[:5]"
   ]
  },
  {
   "cell_type": "code",
   "execution_count": 53,
   "metadata": {},
   "outputs": [],
   "source": [
    "tickers = Ticker(list(stocks.values.flatten()),asynchronous=True)"
   ]
  },
  {
   "cell_type": "code",
   "execution_count": 57,
   "metadata": {},
   "outputs": [],
   "source": [
    "df = tickers.history(start='2018-01-01',end='2019-01-01')\n"
   ]
  },
  {
   "cell_type": "code",
   "execution_count": 70,
   "metadata": {},
   "outputs": [],
   "source": [
    "momentum_scores = []\n",
    "for stock in stocks.values.flatten():\n",
    "    try:\n",
    "        stock_return = (df[stock]['adjclose'][-1] - df[stock]['adjclose'][0])/ df[stock]['adjclose'][0]\n",
    "        stock_std = np.std(df[stock]['adjclose'].pct_change())\n",
    "\n",
    "        momentum_score = stock_return / stock_std\n",
    "        momentum_scores.append(momentum_score)\n",
    "    except:\n",
    "        momentum_scores.append(None)"
   ]
  },
  {
   "cell_type": "code",
   "execution_count": 73,
   "metadata": {},
   "outputs": [],
   "source": [
    "stocks['scores'] = momentum_scores"
   ]
  },
  {
   "cell_type": "code",
   "execution_count": 81,
   "metadata": {},
   "outputs": [],
   "source": [
    "stocks.dropna(inplace=True)"
   ]
  },
  {
   "cell_type": "code",
   "execution_count": 85,
   "metadata": {},
   "outputs": [],
   "source": [
    "stocks.reset_index(inplace=True)"
   ]
  },
  {
   "cell_type": "code",
   "execution_count": 87,
   "metadata": {},
   "outputs": [],
   "source": [
    "from scipy import stats\n",
    "rank = []\n",
    "for i in range(len(stocks)):\n",
    "    rank.append(stats.percentileofscore(stocks['scores'],stocks['scores'][i]))"
   ]
  },
  {
   "cell_type": "code",
   "execution_count": 88,
   "metadata": {},
   "outputs": [],
   "source": [
    "stocks['rank'] = rank"
   ]
  },
  {
   "cell_type": "code",
   "execution_count": 91,
   "metadata": {},
   "outputs": [
    {
     "data": {
      "text/html": [
       "<div>\n",
       "<style scoped>\n",
       "    .dataframe tbody tr th:only-of-type {\n",
       "        vertical-align: middle;\n",
       "    }\n",
       "\n",
       "    .dataframe tbody tr th {\n",
       "        vertical-align: top;\n",
       "    }\n",
       "\n",
       "    .dataframe thead th {\n",
       "        text-align: right;\n",
       "    }\n",
       "</style>\n",
       "<table border=\"1\" class=\"dataframe\">\n",
       "  <thead>\n",
       "    <tr style=\"text-align: right;\">\n",
       "      <th></th>\n",
       "      <th>index</th>\n",
       "      <th>Ticker</th>\n",
       "      <th>scores</th>\n",
       "      <th>rank</th>\n",
       "    </tr>\n",
       "  </thead>\n",
       "  <tbody>\n",
       "    <tr>\n",
       "      <th>145</th>\n",
       "      <td>150</td>\n",
       "      <td>DXCM</td>\n",
       "      <td>32.394971</td>\n",
       "      <td>100.000000</td>\n",
       "    </tr>\n",
       "    <tr>\n",
       "      <th>309</th>\n",
       "      <td>316</td>\n",
       "      <td>MRK</td>\n",
       "      <td>31.896961</td>\n",
       "      <td>99.798387</td>\n",
       "    </tr>\n",
       "    <tr>\n",
       "      <th>300</th>\n",
       "      <td>307</td>\n",
       "      <td>MKC</td>\n",
       "      <td>30.889894</td>\n",
       "      <td>99.596774</td>\n",
       "    </tr>\n",
       "    <tr>\n",
       "      <th>276</th>\n",
       "      <td>283</td>\n",
       "      <td>LLY</td>\n",
       "      <td>28.291393</td>\n",
       "      <td>99.395161</td>\n",
       "    </tr>\n",
       "    <tr>\n",
       "      <th>256</th>\n",
       "      <td>263</td>\n",
       "      <td>KEYS</td>\n",
       "      <td>26.747614</td>\n",
       "      <td>99.193548</td>\n",
       "    </tr>\n",
       "    <tr>\n",
       "      <th>...</th>\n",
       "      <td>...</td>\n",
       "      <td>...</td>\n",
       "      <td>...</td>\n",
       "      <td>...</td>\n",
       "    </tr>\n",
       "    <tr>\n",
       "      <th>205</th>\n",
       "      <td>212</td>\n",
       "      <td>HAL</td>\n",
       "      <td>-24.064982</td>\n",
       "      <td>1.008065</td>\n",
       "    </tr>\n",
       "    <tr>\n",
       "      <th>173</th>\n",
       "      <td>178</td>\n",
       "      <td>FBHS</td>\n",
       "      <td>-24.340475</td>\n",
       "      <td>0.806452</td>\n",
       "    </tr>\n",
       "    <tr>\n",
       "      <th>257</th>\n",
       "      <td>264</td>\n",
       "      <td>KHC</td>\n",
       "      <td>-26.159631</td>\n",
       "      <td>0.604839</td>\n",
       "    </tr>\n",
       "    <tr>\n",
       "      <th>246</th>\n",
       "      <td>253</td>\n",
       "      <td>IVZ</td>\n",
       "      <td>-28.389755</td>\n",
       "      <td>0.403226</td>\n",
       "    </tr>\n",
       "    <tr>\n",
       "      <th>404</th>\n",
       "      <td>412</td>\n",
       "      <td>SLB</td>\n",
       "      <td>-28.919256</td>\n",
       "      <td>0.201613</td>\n",
       "    </tr>\n",
       "  </tbody>\n",
       "</table>\n",
       "<p>496 rows × 4 columns</p>\n",
       "</div>"
      ],
      "text/plain": [
       "     index Ticker     scores        rank\n",
       "145    150   DXCM  32.394971  100.000000\n",
       "309    316    MRK  31.896961   99.798387\n",
       "300    307    MKC  30.889894   99.596774\n",
       "276    283    LLY  28.291393   99.395161\n",
       "256    263   KEYS  26.747614   99.193548\n",
       "..     ...    ...        ...         ...\n",
       "205    212    HAL -24.064982    1.008065\n",
       "173    178   FBHS -24.340475    0.806452\n",
       "257    264    KHC -26.159631    0.604839\n",
       "246    253    IVZ -28.389755    0.403226\n",
       "404    412    SLB -28.919256    0.201613\n",
       "\n",
       "[496 rows x 4 columns]"
      ]
     },
     "execution_count": 91,
     "metadata": {},
     "output_type": "execute_result"
    }
   ],
   "source": [
    "stocks.sort_values(['rank'],ascending=False)"
   ]
  },
  {
   "cell_type": "markdown",
   "metadata": {},
   "source": [
    "## test results on next years returns"
   ]
  },
  {
   "cell_type": "code",
   "execution_count": 101,
   "metadata": {},
   "outputs": [],
   "source": [
    "tickers = Ticker(list(stocks['Ticker'].values.flatten()),asynchronous=True)\n",
    "df = tickers.history(start='2019-01-01',end='2020-01-01')\n"
   ]
  },
  {
   "cell_type": "code",
   "execution_count": 114,
   "metadata": {},
   "outputs": [],
   "source": [
    "stock_return = []\n",
    "for i in stocks['Ticker']:\n",
    "    stock_return.append((df.loc[i]['adjclose'][-1] - df.loc[i]['adjclose'][0])/ df.loc[i]['adjclose'][0])\n"
   ]
  },
  {
   "cell_type": "code",
   "execution_count": 116,
   "metadata": {},
   "outputs": [],
   "source": [
    "stocks['next_year_returns'] = stock_return"
   ]
  },
  {
   "cell_type": "code",
   "execution_count": 120,
   "metadata": {},
   "outputs": [],
   "source": [
    "stocks = stocks.sort_values('rank',ascending=False)"
   ]
  },
  {
   "cell_type": "code",
   "execution_count": 135,
   "metadata": {},
   "outputs": [
    {
     "data": {
      "text/plain": [
       "0.351690373620749"
      ]
     },
     "execution_count": 135,
     "metadata": {},
     "output_type": "execute_result"
    }
   ],
   "source": [
    "# top 50\n",
    "stocks[:50]['next_year_returns'].mean()"
   ]
  },
  {
   "cell_type": "code",
   "execution_count": 136,
   "metadata": {},
   "outputs": [
    {
     "data": {
      "text/plain": [
       "0.271990220063803"
      ]
     },
     "execution_count": 136,
     "metadata": {},
     "output_type": "execute_result"
    }
   ],
   "source": [
    "# last 50\n",
    "stocks[-50:]['next_year_returns'].mean()"
   ]
  },
  {
   "cell_type": "code",
   "execution_count": 137,
   "metadata": {},
   "outputs": [
    {
     "data": {
      "text/plain": [
       "0.3186590849487391"
      ]
     },
     "execution_count": 137,
     "metadata": {},
     "output_type": "execute_result"
    }
   ],
   "source": [
    "# overall return \n",
    "stocks['next_year_returns'].mean()"
   ]
  },
  {
   "cell_type": "code",
   "execution_count": 151,
   "metadata": {},
   "outputs": [
    {
     "data": {
      "text/plain": [
       "Ttest_1sampResult(statistic=-2.9957491839101316, pvalue=0.0028749754640636626)"
      ]
     },
     "execution_count": 151,
     "metadata": {},
     "output_type": "execute_result"
    }
   ],
   "source": [
    "# the pval is less then .05 \n",
    "from scipy import stats\n",
    "stats.ttest_1samp(stocks['next_year_returns'], .3516)"
   ]
  },
  {
   "cell_type": "markdown",
   "metadata": {},
   "source": [
    "## Conclusion:\n",
    "seems like there this algorithm worked however do I only tested it on one years worth of data so i wouldn't fully trust it yet but it seems like it somewhat worked. Also disclaimer i am not liable for any trades made based on these results this was done for educational purposes."
   ]
  },
  {
   "cell_type": "code",
   "execution_count": null,
   "metadata": {},
   "outputs": [],
   "source": []
  },
  {
   "cell_type": "code",
   "execution_count": null,
   "metadata": {},
   "outputs": [],
   "source": []
  }
 ],
 "metadata": {
  "kernelspec": {
   "display_name": "Python 3",
   "language": "python",
   "name": "python3"
  },
  "language_info": {
   "codemirror_mode": {
    "name": "ipython",
    "version": 3
   },
   "file_extension": ".py",
   "mimetype": "text/x-python",
   "name": "python",
   "nbconvert_exporter": "python",
   "pygments_lexer": "ipython3",
   "version": "3.7.6"
  }
 },
 "nbformat": 4,
 "nbformat_minor": 4
}
