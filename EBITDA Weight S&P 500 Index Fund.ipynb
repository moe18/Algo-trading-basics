{
 "cells": [
  {
   "cell_type": "markdown",
   "metadata": {},
   "source": [
    "# EBITDA Weight S&P 500 Index Fund"
   ]
  },
  {
   "cell_type": "markdown",
   "metadata": {},
   "source": [
    "## Summary:\n",
    "the S&P 500 is the worlds biggest stock market index and the index fund that follows the S&P has $250 billion under management.\n"
   ]
  },
  {
   "cell_type": "markdown",
   "metadata": {},
   "source": [
    "The goal of this projects is to weight the investments in each stock within the S&P based on there EBITDA (Earnings Before Interest, Taxes, Depreciation, and Amortization) project was inspired by this video https://www.youtube.com/watch?v=xfzGZB4HhEE&t=5055s"
   ]
  },
  {
   "cell_type": "markdown",
   "metadata": {},
   "source": [
    "## Imports"
   ]
  },
  {
   "cell_type": "code",
   "execution_count": 1,
   "metadata": {},
   "outputs": [],
   "source": [
    "import numpy as np #The Numpy numerical computing library\n",
    "import pandas as pd #The Pandas data science library\n",
    "import requests #The requests library for HTTP requests in Python"
   ]
  },
  {
   "cell_type": "markdown",
   "metadata": {},
   "source": [
    "## Get a list of S&P 500 stocks\n",
    "I have a list of S&P stocks in the repo called sp_500_stocks.csv"
   ]
  },
  {
   "cell_type": "code",
   "execution_count": 3,
   "metadata": {},
   "outputs": [],
   "source": [
    "stocks = pd.read_csv('sp_500_stocks.csv')"
   ]
  },
  {
   "cell_type": "code",
   "execution_count": 4,
   "metadata": {},
   "outputs": [
    {
     "data": {
      "text/html": [
       "<div>\n",
       "<style scoped>\n",
       "    .dataframe tbody tr th:only-of-type {\n",
       "        vertical-align: middle;\n",
       "    }\n",
       "\n",
       "    .dataframe tbody tr th {\n",
       "        vertical-align: top;\n",
       "    }\n",
       "\n",
       "    .dataframe thead th {\n",
       "        text-align: right;\n",
       "    }\n",
       "</style>\n",
       "<table border=\"1\" class=\"dataframe\">\n",
       "  <thead>\n",
       "    <tr style=\"text-align: right;\">\n",
       "      <th></th>\n",
       "      <th>Ticker</th>\n",
       "    </tr>\n",
       "  </thead>\n",
       "  <tbody>\n",
       "    <tr>\n",
       "      <th>0</th>\n",
       "      <td>A</td>\n",
       "    </tr>\n",
       "    <tr>\n",
       "      <th>1</th>\n",
       "      <td>AAL</td>\n",
       "    </tr>\n",
       "    <tr>\n",
       "      <th>2</th>\n",
       "      <td>AAP</td>\n",
       "    </tr>\n",
       "    <tr>\n",
       "      <th>3</th>\n",
       "      <td>AAPL</td>\n",
       "    </tr>\n",
       "    <tr>\n",
       "      <th>4</th>\n",
       "      <td>ABBV</td>\n",
       "    </tr>\n",
       "  </tbody>\n",
       "</table>\n",
       "</div>"
      ],
      "text/plain": [
       "  Ticker\n",
       "0      A\n",
       "1    AAL\n",
       "2    AAP\n",
       "3   AAPL\n",
       "4   ABBV"
      ]
     },
     "execution_count": 4,
     "metadata": {},
     "output_type": "execute_result"
    }
   ],
   "source": [
    "stocks.head()"
   ]
  },
  {
   "cell_type": "markdown",
   "metadata": {},
   "source": [
    "## Use the IEX API\n",
    "\n",
    "here is a link to the API https://iexcloud.io/docs/api/#quote we will need the stock price for each stock as well as the EBITDA. to get this we will have to make two different calls to the API.\n"
   ]
  },
  {
   "cell_type": "code",
   "execution_count": 11,
   "metadata": {
    "scrolled": true
   },
   "outputs": [
    {
     "data": {
      "text/plain": [
       "{'symbol': 'AAPL',\n",
       " 'companyName': 'Apple Inc',\n",
       " 'primaryExchange': ')E SASCL/TT LKGR(MGAE NAOAQSNBLDE',\n",
       " 'calculationPrice': 'tops',\n",
       " 'open': None,\n",
       " 'openTime': None,\n",
       " 'openSource': 'liioffca',\n",
       " 'close': None,\n",
       " 'closeTime': None,\n",
       " 'closeSource': 'ilafifco',\n",
       " 'high': None,\n",
       " 'highTime': None,\n",
       " 'highSource': None,\n",
       " 'low': None,\n",
       " 'lowTime': None,\n",
       " 'lowSource': None,\n",
       " 'latestPrice': 128.63,\n",
       " 'latestSource': 'IEX real time price',\n",
       " 'latestTime': '1:46:29 PM',\n",
       " 'latestUpdate': 1613061544763,\n",
       " 'latestVolume': None,\n",
       " 'iexRealtimePrice': 129.76,\n",
       " 'iexRealtimeSize': 102,\n",
       " 'iexLastUpdated': 1626243115625,\n",
       " 'delayedPrice': None,\n",
       " 'delayedPriceTime': None,\n",
       " 'oddLotDelayedPrice': None,\n",
       " 'oddLotDelayedPriceTime': None,\n",
       " 'extendedPrice': None,\n",
       " 'extendedChange': None,\n",
       " 'extendedChangePercent': None,\n",
       " 'extendedPriceTime': None,\n",
       " 'previousClose': 132.13,\n",
       " 'previousVolume': 100753553,\n",
       " 'change': 0.69,\n",
       " 'changePercent': 0.00531,\n",
       " 'volume': None,\n",
       " 'iexMarketPercent': 0.012941206305403056,\n",
       " 'iexVolume': 710554,\n",
       " 'avgTotalVolume': 100710359,\n",
       " 'iexBidPrice': 132.13,\n",
       " 'iexBidSize': 314,\n",
       " 'iexAskPrice': 134.2,\n",
       " 'iexAskSize': 204,\n",
       " 'iexOpen': 130.65,\n",
       " 'iexOpenTime': 1638799812410,\n",
       " 'iexClose': 133.27,\n",
       " 'iexCloseTime': 1676340308641,\n",
       " 'marketCap': 2280483596778,\n",
       " 'peRatio': 40.01,\n",
       " 'week52High': 136.65,\n",
       " 'week52Low': 57.09,\n",
       " 'ytdChange': 0.7671140980535955,\n",
       " 'lastTradeTime': 1629326199017,\n",
       " 'isUSMarketOpen': True}"
      ]
     },
     "execution_count": 11,
     "metadata": {},
     "output_type": "execute_result"
    }
   ],
   "source": [
    "# Stock Price\n",
    "IEX_CLOUD_API_TOKEN = 'Tpk_059b97af715d417d9f49f50b51b1c448' # not unique, can be used for free API\n",
    "symbol='AAPL'\n",
    "api_url = f'https://sandbox.iexapis.com/stable/stock/{symbol}/quote?token={IEX_CLOUD_API_TOKEN}'\n",
    "data = requests.get(api_url).json()\n",
    "data"
   ]
  },
  {
   "cell_type": "code",
   "execution_count": 12,
   "metadata": {},
   "outputs": [
    {
     "data": {
      "text/plain": [
       "128.63"
      ]
     },
     "execution_count": 12,
     "metadata": {},
     "output_type": "execute_result"
    }
   ],
   "source": [
    "data['latestPrice']"
   ]
  },
  {
   "cell_type": "code",
   "execution_count": 13,
   "metadata": {
    "scrolled": true
   },
   "outputs": [
    {
     "data": {
      "text/plain": [
       "{'beta': 1.1586392259075027,\n",
       " 'totalCash': 92572216828,\n",
       " 'currentDebt': 106565795839,\n",
       " 'revenue': 281751012104,\n",
       " 'grossProfit': 108625489059,\n",
       " 'totalRevenue': 283948983392,\n",
       " 'EBITDA': 77595540199,\n",
       " 'revenuePerShare': 16.4,\n",
       " 'revenuePerEmployee': 2063339.18,\n",
       " 'debtToEquity': 5.102071685088987,\n",
       " 'profitMargin': 0.2113805857378388,\n",
       " 'enterpriseValue': 2250443005163,\n",
       " 'enterpriseValueToRevenue': 8.24,\n",
       " 'priceToSales': 8.11,\n",
       " 'priceToBook': 34.55,\n",
       " 'forwardPERatio': 32.3292228010501,\n",
       " 'pegRatio': 374.5703174017598,\n",
       " 'peHigh': 41.05154547246343,\n",
       " 'peLow': 16.81231988923012,\n",
       " 'week52highDate': '2020-08-25',\n",
       " 'week52lowDate': '2020-03-19',\n",
       " 'putCallRatio': 0.3364093212315464,\n",
       " 'companyName': 'Apple Inc',\n",
       " 'marketcap': 2203156927420,\n",
       " 'week52high': 136.74,\n",
       " 'week52low': 58.23,\n",
       " 'week52change': 0.8726364233410062,\n",
       " 'sharesOutstanding': 17546069622,\n",
       " 'float': None,\n",
       " 'avg10Volume': 104991349,\n",
       " 'avg30Volume': 99521804,\n",
       " 'day200MovingAvg': 111.14,\n",
       " 'day50MovingAvg': 122.3,\n",
       " 'employees': None,\n",
       " 'ttmEPS': 3.39,\n",
       " 'ttmDividendRate': 0.8230247045576282,\n",
       " 'dividendYield': 0.006544969989492909,\n",
       " 'nextDividendDate': None,\n",
       " 'exDividendDate': '2020-10-26',\n",
       " 'nextEarningsDate': None,\n",
       " 'peRatio': 38.68082957500637,\n",
       " 'maxChangePercent': 49.50290034354693,\n",
       " 'year5ChangePercent': 3.9918639412057813,\n",
       " 'year2ChangePercent': 2.269999616565501,\n",
       " 'year1ChangePercent': 0.8529434357926184,\n",
       " 'ytdChangePercent': 0.778442152005825,\n",
       " 'month6ChangePercent': 0.463563970476284,\n",
       " 'month3ChangePercent': 0.14432067183881503,\n",
       " 'month1ChangePercent': 0.06361574692579146,\n",
       " 'day30ChangePercent': 0.06393469407365537,\n",
       " 'day5ChangePercent': 0.05042663059545276}"
      ]
     },
     "execution_count": 13,
     "metadata": {},
     "output_type": "execute_result"
    }
   ],
   "source": [
    "# EBITDA\n",
    "api_url = f'https://sandbox.iexapis.com/stable//stock/{symbol}/advanced-stats?token={IEX_CLOUD_API_TOKEN}'\n",
    "data_EBITDA = requests.get(api_url).json()\n",
    "data_EBITDA"
   ]
  },
  {
   "cell_type": "code",
   "execution_count": 15,
   "metadata": {},
   "outputs": [
    {
     "data": {
      "text/plain": [
       "77595540199"
      ]
     },
     "execution_count": 15,
     "metadata": {},
     "output_type": "execute_result"
    }
   ],
   "source": [
    "data_EBITDA['EBITDA']"
   ]
  },
  {
   "cell_type": "markdown",
   "metadata": {},
   "source": [
    "## Make an empty data frame\n"
   ]
  },
  {
   "cell_type": "code",
   "execution_count": 16,
   "metadata": {},
   "outputs": [
    {
     "data": {
      "text/html": [
       "<div>\n",
       "<style scoped>\n",
       "    .dataframe tbody tr th:only-of-type {\n",
       "        vertical-align: middle;\n",
       "    }\n",
       "\n",
       "    .dataframe tbody tr th {\n",
       "        vertical-align: top;\n",
       "    }\n",
       "\n",
       "    .dataframe thead th {\n",
       "        text-align: right;\n",
       "    }\n",
       "</style>\n",
       "<table border=\"1\" class=\"dataframe\">\n",
       "  <thead>\n",
       "    <tr style=\"text-align: right;\">\n",
       "      <th></th>\n",
       "      <th>Ticker</th>\n",
       "      <th>Price</th>\n",
       "      <th>EBITDA</th>\n",
       "      <th>Number Of Shares to Buy</th>\n",
       "    </tr>\n",
       "  </thead>\n",
       "  <tbody>\n",
       "  </tbody>\n",
       "</table>\n",
       "</div>"
      ],
      "text/plain": [
       "Empty DataFrame\n",
       "Columns: [Ticker, Price, EBITDA, Number Of Shares to Buy]\n",
       "Index: []"
      ]
     },
     "execution_count": 16,
     "metadata": {},
     "output_type": "execute_result"
    }
   ],
   "source": [
    "my_columns = ['Ticker', 'Price','EBITDA', 'Number Of Shares to Buy']\n",
    "final_dataframe = pd.DataFrame(columns = my_columns)\n",
    "final_dataframe"
   ]
  },
  {
   "cell_type": "code",
   "execution_count": 17,
   "metadata": {},
   "outputs": [
    {
     "data": {
      "text/html": [
       "<div>\n",
       "<style scoped>\n",
       "    .dataframe tbody tr th:only-of-type {\n",
       "        vertical-align: middle;\n",
       "    }\n",
       "\n",
       "    .dataframe tbody tr th {\n",
       "        vertical-align: top;\n",
       "    }\n",
       "\n",
       "    .dataframe thead th {\n",
       "        text-align: right;\n",
       "    }\n",
       "</style>\n",
       "<table border=\"1\" class=\"dataframe\">\n",
       "  <thead>\n",
       "    <tr style=\"text-align: right;\">\n",
       "      <th></th>\n",
       "      <th>Ticker</th>\n",
       "      <th>Price</th>\n",
       "      <th>EBITDA</th>\n",
       "      <th>Number Of Shares to Buy</th>\n",
       "    </tr>\n",
       "  </thead>\n",
       "  <tbody>\n",
       "    <tr>\n",
       "      <th>0</th>\n",
       "      <td>AAPL</td>\n",
       "      <td>128.63</td>\n",
       "      <td>77595540199</td>\n",
       "      <td>N/A</td>\n",
       "    </tr>\n",
       "  </tbody>\n",
       "</table>\n",
       "</div>"
      ],
      "text/plain": [
       "  Ticker   Price       EBITDA Number Of Shares to Buy\n",
       "0   AAPL  128.63  77595540199                     N/A"
      ]
     },
     "execution_count": 17,
     "metadata": {},
     "output_type": "execute_result"
    }
   ],
   "source": [
    "final_dataframe = final_dataframe.append(\n",
    "                                        pd.Series(['AAPL', \n",
    "                                                   data['latestPrice'], \n",
    "                                                   data_EBITDA['EBITDA'], \n",
    "                                                   'N/A'], \n",
    "                                                  index = my_columns), \n",
    "                                        ignore_index = True)\n",
    "final_dataframe"
   ]
  },
  {
   "cell_type": "markdown",
   "metadata": {},
   "source": [
    "## Batch API call\n",
    "instead of calling the API 500 times you can make calls to the api of at max 100 stocks and this will only need to make 5 calls to the api and will be much faster (well technically it will be 10 calls because need to make two different calls to the api for ebitda and stock price."
   ]
  },
  {
   "cell_type": "code",
   "execution_count": 18,
   "metadata": {},
   "outputs": [],
   "source": [
    "# Function sourced from \n",
    "# https://stackoverflow.com/questions/312443/how-do-you-split-a-list-into-evenly-sized-chunks\n",
    "def chunks(lst, n):\n",
    "    \"\"\"Yield successive n-sized chunks from lst.\"\"\"\n",
    "    for i in range(0, len(lst), n):\n",
    "        yield lst[i:i + n]"
   ]
  },
  {
   "cell_type": "code",
   "execution_count": 24,
   "metadata": {},
   "outputs": [
    {
     "data": {
      "text/html": [
       "<div>\n",
       "<style scoped>\n",
       "    .dataframe tbody tr th:only-of-type {\n",
       "        vertical-align: middle;\n",
       "    }\n",
       "\n",
       "    .dataframe tbody tr th {\n",
       "        vertical-align: top;\n",
       "    }\n",
       "\n",
       "    .dataframe thead th {\n",
       "        text-align: right;\n",
       "    }\n",
       "</style>\n",
       "<table border=\"1\" class=\"dataframe\">\n",
       "  <thead>\n",
       "    <tr style=\"text-align: right;\">\n",
       "      <th></th>\n",
       "      <th>Ticker</th>\n",
       "      <th>Price</th>\n",
       "      <th>EBITDA</th>\n",
       "      <th>Number Of Shares to Buy</th>\n",
       "    </tr>\n",
       "  </thead>\n",
       "  <tbody>\n",
       "    <tr>\n",
       "      <th>0</th>\n",
       "      <td>A</td>\n",
       "      <td>124.550</td>\n",
       "      <td>1129402388</td>\n",
       "      <td>N/A</td>\n",
       "    </tr>\n",
       "    <tr>\n",
       "      <th>1</th>\n",
       "      <td>AAL</td>\n",
       "      <td>17.253</td>\n",
       "      <td>-5728534410</td>\n",
       "      <td>N/A</td>\n",
       "    </tr>\n",
       "    <tr>\n",
       "      <th>2</th>\n",
       "      <td>AAP</td>\n",
       "      <td>160.940</td>\n",
       "      <td>1011957279</td>\n",
       "      <td>N/A</td>\n",
       "    </tr>\n",
       "    <tr>\n",
       "      <th>3</th>\n",
       "      <td>AAPL</td>\n",
       "      <td>130.985</td>\n",
       "      <td>80051206099</td>\n",
       "      <td>N/A</td>\n",
       "    </tr>\n",
       "    <tr>\n",
       "      <th>4</th>\n",
       "      <td>ABBV</td>\n",
       "      <td>105.400</td>\n",
       "      <td>17212540887</td>\n",
       "      <td>N/A</td>\n",
       "    </tr>\n",
       "    <tr>\n",
       "      <th>...</th>\n",
       "      <td>...</td>\n",
       "      <td>...</td>\n",
       "      <td>...</td>\n",
       "      <td>...</td>\n",
       "    </tr>\n",
       "    <tr>\n",
       "      <th>500</th>\n",
       "      <td>YUM</td>\n",
       "      <td>110.790</td>\n",
       "      <td>1801202676</td>\n",
       "      <td>N/A</td>\n",
       "    </tr>\n",
       "    <tr>\n",
       "      <th>501</th>\n",
       "      <td>ZBH</td>\n",
       "      <td>152.240</td>\n",
       "      <td>1490087329</td>\n",
       "      <td>N/A</td>\n",
       "    </tr>\n",
       "    <tr>\n",
       "      <th>502</th>\n",
       "      <td>ZBRA</td>\n",
       "      <td>382.490</td>\n",
       "      <td>725656416</td>\n",
       "      <td>N/A</td>\n",
       "    </tr>\n",
       "    <tr>\n",
       "      <th>503</th>\n",
       "      <td>ZION</td>\n",
       "      <td>42.320</td>\n",
       "      <td>696213425</td>\n",
       "      <td>N/A</td>\n",
       "    </tr>\n",
       "    <tr>\n",
       "      <th>504</th>\n",
       "      <td>ZTS</td>\n",
       "      <td>169.300</td>\n",
       "      <td>2338972198</td>\n",
       "      <td>N/A</td>\n",
       "    </tr>\n",
       "  </tbody>\n",
       "</table>\n",
       "<p>505 rows × 4 columns</p>\n",
       "</div>"
      ],
      "text/plain": [
       "    Ticker    Price       EBITDA Number Of Shares to Buy\n",
       "0        A  124.550   1129402388                     N/A\n",
       "1      AAL   17.253  -5728534410                     N/A\n",
       "2      AAP  160.940   1011957279                     N/A\n",
       "3     AAPL  130.985  80051206099                     N/A\n",
       "4     ABBV  105.400  17212540887                     N/A\n",
       "..     ...      ...          ...                     ...\n",
       "500    YUM  110.790   1801202676                     N/A\n",
       "501    ZBH  152.240   1490087329                     N/A\n",
       "502   ZBRA  382.490    725656416                     N/A\n",
       "503   ZION   42.320    696213425                     N/A\n",
       "504    ZTS  169.300   2338972198                     N/A\n",
       "\n",
       "[505 rows x 4 columns]"
      ]
     },
     "execution_count": 24,
     "metadata": {},
     "output_type": "execute_result"
    }
   ],
   "source": [
    "symbol_groups = list(chunks(stocks['Ticker'], 100))\n",
    "symbol_strings = []\n",
    "for i in range(0, len(symbol_groups)):\n",
    "    symbol_strings.append(','.join(symbol_groups[i]))\n",
    "#     print(symbol_strings[i])\n",
    "\n",
    "final_dataframe = pd.DataFrame(columns = my_columns)\n",
    "\n",
    "for symbol_string in symbol_strings:\n",
    "#     print(symbol_strings)\n",
    "    batch_api_call_url = f'https://sandbox.iexapis.com/stable/stock/market/batch/?types=quote&symbols={symbol_string}&token={IEX_CLOUD_API_TOKEN}'\n",
    "    data = requests.get(batch_api_call_url).json()\n",
    "    \n",
    "    batch_api_call_url_ebitda = f'https://sandbox.iexapis.com/stable/stock/market/batch/?types=advanced-stats&symbols={symbol_string}&token={IEX_CLOUD_API_TOKEN}'\n",
    "    data_ebitda = requests.get(batch_api_call_url_ebitda).json()\n",
    "    for symbol in symbol_string.split(','):\n",
    "        final_dataframe = final_dataframe.append(\n",
    "                                        pd.Series([symbol, \n",
    "                                                   data[symbol]['quote']['latestPrice'], \n",
    "                                                   data_ebitda[symbol]['advanced-stats']['EBITDA'], \n",
    "                                                   'N/A'], \n",
    "                                                  index = my_columns), \n",
    "                                        ignore_index = True)\n",
    "        \n",
    "    \n",
    "final_dataframe"
   ]
  },
  {
   "cell_type": "markdown",
   "metadata": {},
   "source": [
    "## Data Cleaning\n",
    "going to remove EBIDTAs that are negative because i only want to buy stocks and not short stocks"
   ]
  },
  {
   "cell_type": "code",
   "execution_count": 27,
   "metadata": {},
   "outputs": [],
   "source": [
    "final_dataframe = final_dataframe[final_dataframe['EBITDA']>0]"
   ]
  },
  {
   "cell_type": "markdown",
   "metadata": {},
   "source": [
    "## Calculate the number of shares to buy"
   ]
  },
  {
   "cell_type": "code",
   "execution_count": 29,
   "metadata": {},
   "outputs": [],
   "source": [
    "portfolio_size = 100000\n",
    "\n",
    "ebitda_weights = final_dataframe['EBITDA'] / sum(final_dataframe['EBITDA'])"
   ]
  },
  {
   "cell_type": "code",
   "execution_count": 30,
   "metadata": {},
   "outputs": [
    {
     "data": {
      "text/plain": [
       "0    0.000530354\n",
       "2    0.000475204\n",
       "3      0.0375911\n",
       "4     0.00808281\n",
       "5     0.00108514\n",
       "Name: EBITDA, dtype: object"
      ]
     },
     "execution_count": 30,
     "metadata": {},
     "output_type": "execute_result"
    }
   ],
   "source": [
    "ebitda_weights[:5]"
   ]
  },
  {
   "cell_type": "code",
   "execution_count": 40,
   "metadata": {},
   "outputs": [],
   "source": [
    "position_size = portfolio_size * ebitda_weights"
   ]
  },
  {
   "cell_type": "code",
   "execution_count": 42,
   "metadata": {
    "scrolled": true
   },
   "outputs": [
    {
     "data": {
      "text/plain": [
       "0       0\n",
       "2       0\n",
       "3      28\n",
       "4       7\n",
       "5       1\n",
       "       ..\n",
       "500     0\n",
       "501     0\n",
       "502     0\n",
       "503     0\n",
       "504     0\n",
       "Length: 473, dtype: object"
      ]
     },
     "execution_count": 42,
     "metadata": {},
     "output_type": "execute_result"
    }
   ],
   "source": [
    "position_size // final_dataframe['Price']"
   ]
  },
  {
   "cell_type": "code",
   "execution_count": null,
   "metadata": {},
   "outputs": [],
   "source": []
  },
  {
   "cell_type": "code",
   "execution_count": 44,
   "metadata": {},
   "outputs": [],
   "source": [
    "number_of_shares = (position_size // final_dataframe['Price']).values"
   ]
  },
  {
   "cell_type": "code",
   "execution_count": 47,
   "metadata": {},
   "outputs": [
    {
     "name": "stderr",
     "output_type": "stream",
     "text": [
      "/opt/anaconda3/lib/python3.7/site-packages/ipykernel_launcher.py:1: SettingWithCopyWarning: \n",
      "A value is trying to be set on a copy of a slice from a DataFrame.\n",
      "Try using .loc[row_indexer,col_indexer] = value instead\n",
      "\n",
      "See the caveats in the documentation: https://pandas.pydata.org/pandas-docs/stable/user_guide/indexing.html#returning-a-view-versus-a-copy\n",
      "  \"\"\"Entry point for launching an IPython kernel.\n"
     ]
    }
   ],
   "source": [
    "final_dataframe['Number Of Shares to Buy'] = number_of_shares"
   ]
  },
  {
   "cell_type": "code",
   "execution_count": 48,
   "metadata": {},
   "outputs": [
    {
     "data": {
      "text/html": [
       "<div>\n",
       "<style scoped>\n",
       "    .dataframe tbody tr th:only-of-type {\n",
       "        vertical-align: middle;\n",
       "    }\n",
       "\n",
       "    .dataframe tbody tr th {\n",
       "        vertical-align: top;\n",
       "    }\n",
       "\n",
       "    .dataframe thead th {\n",
       "        text-align: right;\n",
       "    }\n",
       "</style>\n",
       "<table border=\"1\" class=\"dataframe\">\n",
       "  <thead>\n",
       "    <tr style=\"text-align: right;\">\n",
       "      <th></th>\n",
       "      <th>Ticker</th>\n",
       "      <th>Price</th>\n",
       "      <th>EBITDA</th>\n",
       "      <th>Number Of Shares to Buy</th>\n",
       "    </tr>\n",
       "  </thead>\n",
       "  <tbody>\n",
       "    <tr>\n",
       "      <th>0</th>\n",
       "      <td>A</td>\n",
       "      <td>124.550</td>\n",
       "      <td>1129402388</td>\n",
       "      <td>0</td>\n",
       "    </tr>\n",
       "    <tr>\n",
       "      <th>2</th>\n",
       "      <td>AAP</td>\n",
       "      <td>160.940</td>\n",
       "      <td>1011957279</td>\n",
       "      <td>0</td>\n",
       "    </tr>\n",
       "    <tr>\n",
       "      <th>3</th>\n",
       "      <td>AAPL</td>\n",
       "      <td>130.985</td>\n",
       "      <td>80051206099</td>\n",
       "      <td>28</td>\n",
       "    </tr>\n",
       "    <tr>\n",
       "      <th>4</th>\n",
       "      <td>ABBV</td>\n",
       "      <td>105.400</td>\n",
       "      <td>17212540887</td>\n",
       "      <td>7</td>\n",
       "    </tr>\n",
       "    <tr>\n",
       "      <th>5</th>\n",
       "      <td>ABC</td>\n",
       "      <td>98.860</td>\n",
       "      <td>2310837584</td>\n",
       "      <td>1</td>\n",
       "    </tr>\n",
       "    <tr>\n",
       "      <th>...</th>\n",
       "      <td>...</td>\n",
       "      <td>...</td>\n",
       "      <td>...</td>\n",
       "      <td>...</td>\n",
       "    </tr>\n",
       "    <tr>\n",
       "      <th>500</th>\n",
       "      <td>YUM</td>\n",
       "      <td>110.790</td>\n",
       "      <td>1801202676</td>\n",
       "      <td>0</td>\n",
       "    </tr>\n",
       "    <tr>\n",
       "      <th>501</th>\n",
       "      <td>ZBH</td>\n",
       "      <td>152.240</td>\n",
       "      <td>1490087329</td>\n",
       "      <td>0</td>\n",
       "    </tr>\n",
       "    <tr>\n",
       "      <th>502</th>\n",
       "      <td>ZBRA</td>\n",
       "      <td>382.490</td>\n",
       "      <td>725656416</td>\n",
       "      <td>0</td>\n",
       "    </tr>\n",
       "    <tr>\n",
       "      <th>503</th>\n",
       "      <td>ZION</td>\n",
       "      <td>42.320</td>\n",
       "      <td>696213425</td>\n",
       "      <td>0</td>\n",
       "    </tr>\n",
       "    <tr>\n",
       "      <th>504</th>\n",
       "      <td>ZTS</td>\n",
       "      <td>169.300</td>\n",
       "      <td>2338972198</td>\n",
       "      <td>0</td>\n",
       "    </tr>\n",
       "  </tbody>\n",
       "</table>\n",
       "<p>473 rows × 4 columns</p>\n",
       "</div>"
      ],
      "text/plain": [
       "    Ticker    Price       EBITDA Number Of Shares to Buy\n",
       "0        A  124.550   1129402388                       0\n",
       "2      AAP  160.940   1011957279                       0\n",
       "3     AAPL  130.985  80051206099                      28\n",
       "4     ABBV  105.400  17212540887                       7\n",
       "5      ABC   98.860   2310837584                       1\n",
       "..     ...      ...          ...                     ...\n",
       "500    YUM  110.790   1801202676                       0\n",
       "501    ZBH  152.240   1490087329                       0\n",
       "502   ZBRA  382.490    725656416                       0\n",
       "503   ZION   42.320    696213425                       0\n",
       "504    ZTS  169.300   2338972198                       0\n",
       "\n",
       "[473 rows x 4 columns]"
      ]
     },
     "execution_count": 48,
     "metadata": {},
     "output_type": "execute_result"
    }
   ],
   "source": [
    "final_dataframe"
   ]
  },
  {
   "cell_type": "code",
   "execution_count": 53,
   "metadata": {},
   "outputs": [
    {
     "data": {
      "text/html": [
       "<div>\n",
       "<style scoped>\n",
       "    .dataframe tbody tr th:only-of-type {\n",
       "        vertical-align: middle;\n",
       "    }\n",
       "\n",
       "    .dataframe tbody tr th {\n",
       "        vertical-align: top;\n",
       "    }\n",
       "\n",
       "    .dataframe thead th {\n",
       "        text-align: right;\n",
       "    }\n",
       "</style>\n",
       "<table border=\"1\" class=\"dataframe\">\n",
       "  <thead>\n",
       "    <tr style=\"text-align: right;\">\n",
       "      <th></th>\n",
       "      <th>Ticker</th>\n",
       "      <th>Price</th>\n",
       "      <th>EBITDA</th>\n",
       "      <th>Number Of Shares to Buy</th>\n",
       "    </tr>\n",
       "  </thead>\n",
       "  <tbody>\n",
       "    <tr>\n",
       "      <th>429</th>\n",
       "      <td>T</td>\n",
       "      <td>30.770</td>\n",
       "      <td>59049880203</td>\n",
       "      <td>90</td>\n",
       "    </tr>\n",
       "    <tr>\n",
       "      <th>56</th>\n",
       "      <td>BAC</td>\n",
       "      <td>30.140</td>\n",
       "      <td>22886284535</td>\n",
       "      <td>35</td>\n",
       "    </tr>\n",
       "    <tr>\n",
       "      <th>475</th>\n",
       "      <td>VZ</td>\n",
       "      <td>62.380</td>\n",
       "      <td>46441585175</td>\n",
       "      <td>34</td>\n",
       "    </tr>\n",
       "    <tr>\n",
       "      <th>174</th>\n",
       "      <td>F</td>\n",
       "      <td>9.420</td>\n",
       "      <td>6724434403</td>\n",
       "      <td>33</td>\n",
       "    </tr>\n",
       "    <tr>\n",
       "      <th>496</th>\n",
       "      <td>XOM</td>\n",
       "      <td>44.477</td>\n",
       "      <td>27537907517</td>\n",
       "      <td>29</td>\n",
       "    </tr>\n",
       "    <tr>\n",
       "      <th>99</th>\n",
       "      <td>CMCSA</td>\n",
       "      <td>51.549</td>\n",
       "      <td>32153377795</td>\n",
       "      <td>29</td>\n",
       "    </tr>\n",
       "    <tr>\n",
       "      <th>3</th>\n",
       "      <td>AAPL</td>\n",
       "      <td>130.985</td>\n",
       "      <td>80051206099</td>\n",
       "      <td>28</td>\n",
       "    </tr>\n",
       "    <tr>\n",
       "      <th>242</th>\n",
       "      <td>INTC</td>\n",
       "      <td>51.400</td>\n",
       "      <td>25442190087</td>\n",
       "      <td>23</td>\n",
       "    </tr>\n",
       "    <tr>\n",
       "      <th>198</th>\n",
       "      <td>GE</td>\n",
       "      <td>11.133</td>\n",
       "      <td>5378877850</td>\n",
       "      <td>22</td>\n",
       "    </tr>\n",
       "    <tr>\n",
       "      <th>365</th>\n",
       "      <td>PFE</td>\n",
       "      <td>38.920</td>\n",
       "      <td>17734810193</td>\n",
       "      <td>21</td>\n",
       "    </tr>\n",
       "  </tbody>\n",
       "</table>\n",
       "</div>"
      ],
      "text/plain": [
       "    Ticker    Price       EBITDA Number Of Shares to Buy\n",
       "429      T   30.770  59049880203                      90\n",
       "56     BAC   30.140  22886284535                      35\n",
       "475     VZ   62.380  46441585175                      34\n",
       "174      F    9.420   6724434403                      33\n",
       "496    XOM   44.477  27537907517                      29\n",
       "99   CMCSA   51.549  32153377795                      29\n",
       "3     AAPL  130.985  80051206099                      28\n",
       "242   INTC   51.400  25442190087                      23\n",
       "198     GE   11.133   5378877850                      22\n",
       "365    PFE   38.920  17734810193                      21"
      ]
     },
     "execution_count": 53,
     "metadata": {},
     "output_type": "execute_result"
    }
   ],
   "source": [
    "\n",
    "final_dataframe.sort_values('Number Of Shares to Buy',ascending=False)[:10]"
   ]
  },
  {
   "cell_type": "code",
   "execution_count": null,
   "metadata": {},
   "outputs": [],
   "source": []
  }
 ],
 "metadata": {
  "kernelspec": {
   "display_name": "Python 3",
   "language": "python",
   "name": "python3"
  },
  "language_info": {
   "codemirror_mode": {
    "name": "ipython",
    "version": 3
   },
   "file_extension": ".py",
   "mimetype": "text/x-python",
   "name": "python",
   "nbconvert_exporter": "python",
   "pygments_lexer": "ipython3",
   "version": "3.7.6"
  }
 },
 "nbformat": 4,
 "nbformat_minor": 4
}
